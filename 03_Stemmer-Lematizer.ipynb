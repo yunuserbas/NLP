{
  "nbformat": 4,
  "nbformat_minor": 0,
  "metadata": {
    "colab": {
      "provenance": []
    },
    "kernelspec": {
      "name": "python3",
      "display_name": "Python 3"
    },
    "language_info": {
      "name": "python"
    }
  },
  "cells": [
    {
      "cell_type": "code",
      "execution_count": 30,
      "metadata": {
        "id": "rF0lnEuvPV2b"
      },
      "outputs": [],
      "source": [
        "import nltk"
      ]
    },
    {
      "cell_type": "code",
      "source": [
        "\n",
        "text = \"Pelé, the Brazilian king of soccer who won a record 3 World Cups and became one of the most commanding sports figures of the last century, died Thursday. He was 82.\"\n",
        "\n",
        "# Tokenize the text into sentences\n",
        "sentences = nltk.sent_tokenize(text)\n",
        "\n",
        "\n",
        "print(sentences)"
      ],
      "metadata": {
        "colab": {
          "base_uri": "https://localhost:8080/"
        },
        "id": "m10IiDVdPr57",
        "outputId": "e665aae2-8a86-4000-f8dc-7a3ddf7e32f8"
      },
      "execution_count": 31,
      "outputs": [
        {
          "output_type": "stream",
          "name": "stdout",
          "text": [
            "['Pelé, the Brazilian king of soccer who won a record 3 World Cups and became one of the most commanding sports figures of the last century, died Thursday.', 'He was 82.']\n"
          ]
        }
      ]
    },
    {
      "cell_type": "code",
      "source": [
        "# Tokenize the text into words\n",
        "words = nltk.word_tokenize(text)\n",
        "\n",
        "\n",
        "print(words)"
      ],
      "metadata": {
        "colab": {
          "base_uri": "https://localhost:8080/"
        },
        "id": "kdYFxdXRRQtb",
        "outputId": "3477fe55-8455-4f7c-f2ec-c9117614b779"
      },
      "execution_count": 32,
      "outputs": [
        {
          "output_type": "stream",
          "name": "stdout",
          "text": [
            "['Pelé', ',', 'the', 'Brazilian', 'king', 'of', 'soccer', 'who', 'won', 'a', 'record', '3', 'World', 'Cups', 'and', 'became', 'one', 'of', 'the', 'most', 'commanding', 'sports', 'figures', 'of', 'the', 'last', 'century', ',', 'died', 'Thursday', '.', 'He', 'was', '82', '.']\n"
          ]
        }
      ]
    },
    {
      "cell_type": "code",
      "source": [
        "import matplotlib.pyplot as plt\n",
        "\n",
        "\n",
        "word_frequencies = {}\n",
        "\n",
        "# Iterate through the list of words and update the word frequencies\n",
        "for word in words:\n",
        "    if word in word_frequencies:\n",
        "        word_frequencies[word] += 1\n",
        "    else:\n",
        "        word_frequencies[word] = 1\n",
        "\n",
        "# Sort the word frequencies in descending order\n",
        "sorted_word_frequencies = sorted(word_frequencies.items(), key=lambda x: x[1], reverse=True)\n",
        "\n",
        "# Select the top 20 words\n",
        "top_20_words = sorted_word_frequencies[:20]\n",
        "\n",
        "# Extract the words and frequencies\n",
        "words, frequencies = zip(*top_20_words)\n",
        "\n",
        "\n",
        "plt.bar(words, frequencies)\n",
        "plt.xticks(rotation=90)\n",
        "plt.show()"
      ],
      "metadata": {
        "colab": {
          "base_uri": "https://localhost:8080/",
          "height": 321
        },
        "id": "q-Ij-eV1RcM1",
        "outputId": "7091af39-34c7-42de-eedc-5a01b318d453"
      },
      "execution_count": 33,
      "outputs": [
        {
          "output_type": "display_data",
          "data": {
            "text/plain": [
              "<Figure size 432x288 with 1 Axes>"
            ],
            "image/png": "[encoded data removed]"
          },
          "metadata": {
            "needs_background": "light"
          }
        }
      ]
    },
    {
      "cell_type": "code",
      "source": [
        "import string\n",
        "\n",
        "# Remove the stopwords and punctuation\n",
        "filtered_words = [word for word in words if word.lower() not in nltk.corpus.stopwords.words('english') and word not in string.punctuation]\n",
        "\n",
        "# Create a dictionary to store the word frequencies\n",
        "word_frequencies = {}\n",
        "\n",
        "# Iterate through the list of words and update the word frequencies\n",
        "for word in filtered_words:\n",
        "    if word in word_frequencies:\n",
        "        word_frequencies[word] += 1\n",
        "    else:\n",
        "        word_frequencies[word] = 1\n",
        "\n",
        "# Sort the word frequencies in descending order\n",
        "sorted_word_frequencies = sorted(word_frequencies.items(), key=lambda x: x[1], reverse=True)\n",
        "\n",
        "# Select the top 20 words\n",
        "top_20_words = sorted_word_frequencies[:20]\n",
        "\n",
        "# Extract the words and frequencies\n",
        "words, frequencies = zip(*top_20_words)\n",
        "\n",
        "\n",
        "plt.bar(words, frequencies)\n",
        "plt.xticks(rotation=90)\n",
        "plt.show()"
      ],
      "metadata": {
        "colab": {
          "base_uri": "https://localhost:8080/",
          "height": 321
        },
        "id": "Y1gMflhhRhv6",
        "outputId": "e388af76-264b-400c-b953-9cf919d01ebd"
      },
      "execution_count": 34,
      "outputs": [
        {
          "output_type": "display_data",
          "data": {
            "text/plain": [
              "<Figure size 432x288 with 1 Axes>"
            ],
            "image/png": "[encoded data removed]"
          },
          "metadata": {
            "needs_background": "light"
          }
        }
      ]
    },
    {
      "cell_type": "markdown",
      "source": [
        "**Stemmer**"
      ],
      "metadata": {
        "id": "UzfawGJ_hR3a"
      }
    },
    {
      "cell_type": "code",
      "source": [
        "from nltk.stem import SnowballStemmer\n",
        "\n",
        "text = \"Pelé, the Brazilian king of soccer who won a record 3 World Cups and became one of the most commanding sports figures of the last century, died Thursday. He was 82.\"\n",
        "\n",
        "words = nltk.word_tokenize(text)\n",
        "\n",
        "\n",
        "stem_en = SnowballStemmer(\"english\")\n",
        "for word in nltk.word_tokenize(text):\n",
        "    print(stem_en.stem(word))\n",
        "\n",
        "sent_stem = [stem_en.stem(word) for word in nltk.word_tokenize(text)]\n",
        "nltk.FreqDist(sent_stem)"
      ],
      "metadata": {
        "colab": {
          "base_uri": "https://localhost:8080/"
        },
        "id": "HGIJGZVBcfKO",
        "outputId": "00fa77df-6681-4875-f626-c5412cc768fd"
      },
      "execution_count": 56,
      "outputs": [
        {
          "output_type": "stream",
          "name": "stdout",
          "text": [
            "pelé\n",
            ",\n",
            "the\n",
            "brazilian\n",
            "king\n",
            "of\n",
            "soccer\n",
            "who\n",
            "won\n",
            "a\n",
            "record\n",
            "3\n",
            "world\n",
            "cup\n",
            "and\n",
            "becam\n",
            "one\n",
            "of\n",
            "the\n",
            "most\n",
            "command\n",
            "sport\n",
            "figur\n",
            "of\n",
            "the\n",
            "last\n",
            "centuri\n",
            ",\n",
            "die\n",
            "thursday\n",
            ".\n",
            "he\n",
            "was\n",
            "82\n",
            ".\n"
          ]
        },
        {
          "output_type": "execute_result",
          "data": {
            "text/plain": [
              "FreqDist({'the': 3, 'of': 3, ',': 2, '.': 2, 'pelé': 1, 'brazilian': 1, 'king': 1, 'soccer': 1, 'who': 1, 'won': 1, ...})"
            ]
          },
          "metadata": {},
          "execution_count": 56
        }
      ]
    },
    {
      "cell_type": "code",
      "source": [
        "plt.figure(figsize=(10, 5))\n",
        "nltk.FreqDist(sent_stem).plot(20)\n",
        "plt.show()"
      ],
      "metadata": {
        "colab": {
          "base_uri": "https://localhost:8080/",
          "height": 373
        },
        "id": "NhhPkn8Ic5de",
        "outputId": "b31ad88d-89c2-4218-9f79-1ab19573a9da"
      },
      "execution_count": 57,
      "outputs": [
        {
          "output_type": "display_data",
          "data": {
            "text/plain": [
              "<Figure size 720x360 with 1 Axes>"
            ],
            "image/png": "[encoded data removed]"
          },
          "metadata": {
            "needs_background": "light"
          }
        }
      ]
    },
    {
      "cell_type": "markdown",
      "source": [
        "**Lemmatizer**"
      ],
      "metadata": {
        "id": "-8MfjSlRhZHY"
      }
    },
    {
      "cell_type": "code",
      "source": [
        "from nltk.stem import WordNetLemmatizer\n",
        "\n",
        "# Lemmatize the words\n",
        "lemmatizer = WordNetLemmatizer()\n",
        "\n",
        "for word in nltk.word_tokenize(text):\n",
        "    print(lemmatizer.lemmatize(word))\n",
        "\n",
        "lemmatized_words = [lemmatizer.lemmatize(word) for word in nltk.word_tokenize(text)]\n",
        "nltk.FreqDist(lemmatized_words)"
      ],
      "metadata": {
        "colab": {
          "base_uri": "https://localhost:8080/"
        },
        "id": "Gzi_jRDNdYSb",
        "outputId": "c6778dfc-b799-4751-9883-80337f27767d"
      },
      "execution_count": 58,
      "outputs": [
        {
          "output_type": "stream",
          "name": "stdout",
          "text": [
            "Pelé\n",
            ",\n",
            "the\n",
            "Brazilian\n",
            "king\n",
            "of\n",
            "soccer\n",
            "who\n",
            "won\n",
            "a\n",
            "record\n",
            "3\n",
            "World\n",
            "Cups\n",
            "and\n",
            "became\n",
            "one\n",
            "of\n",
            "the\n",
            "most\n",
            "commanding\n",
            "sport\n",
            "figure\n",
            "of\n",
            "the\n",
            "last\n",
            "century\n",
            ",\n",
            "died\n",
            "Thursday\n",
            ".\n",
            "He\n",
            "wa\n",
            "82\n",
            ".\n"
          ]
        },
        {
          "output_type": "execute_result",
          "data": {
            "text/plain": [
              "FreqDist({'the': 3, 'of': 3, ',': 2, '.': 2, 'Pelé': 1, 'Brazilian': 1, 'king': 1, 'soccer': 1, 'who': 1, 'won': 1, ...})"
            ]
          },
          "metadata": {},
          "execution_count": 58
        }
      ]
    },
    {
      "cell_type": "code",
      "source": [
        "# Create a frequency distribution of the lemmatized words\n",
        "fdist = nltk.FreqDist(lemmatized_words)\n",
        "\n",
        "plt.figure(figsize=(10, 5))\n",
        "fdist.plot(20)\n",
        "plt.show()"
      ],
      "metadata": {
        "colab": {
          "base_uri": "https://localhost:8080/",
          "height": 389
        },
        "id": "gjlVtHRMdoP4",
        "outputId": "85bad57f-1f73-4e94-ab4a-9ea1d99f7e35"
      },
      "execution_count": 59,
      "outputs": [
        {
          "output_type": "display_data",
          "data": {
            "text/plain": [
              "<Figure size 720x360 with 1 Axes>"
            ],
            "image/png": "[encoded data removed]"
          },
          "metadata": {
            "needs_background": "light"
          }
        }
      ]
    }
  ]
}