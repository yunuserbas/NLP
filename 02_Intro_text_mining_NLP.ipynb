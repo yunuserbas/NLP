{
  "nbformat": 4,
  "nbformat_minor": 0,
  "metadata": {
    "colab": {
      "provenance": []
    },
    "kernelspec": {
      "name": "python3",
      "display_name": "Python 3"
    },
    "language_info": {
      "name": "python"
    }
  },
  "cells": [
    {
      "cell_type": "code",
      "execution_count": 19,
      "metadata": {
        "id": "rF0lnEuvPV2b"
      },
      "outputs": [],
      "source": [
        "import nltk"
      ]
    },
    {
      "cell_type": "code",
      "source": [
        "# Set the text\n",
        "text = \"Pelé, the Brazilian king of soccer who won a record 3 World Cups and became one of the most commanding sports figures of the last century, died Thursday. He was 82.\"\n",
        "\n",
        "# Tokenize the text into sentences\n",
        "sentences = nltk.sent_tokenize(text)\n",
        "\n",
        "# Print the sentences\n",
        "print(sentences)"
      ],
      "metadata": {
        "colab": {
          "base_uri": "https://localhost:8080/"
        },
        "id": "m10IiDVdPr57",
        "outputId": "eb282cf3-7e0d-4ac0-b3d8-b47885ba8644"
      },
      "execution_count": 20,
      "outputs": [
        {
          "output_type": "stream",
          "name": "stdout",
          "text": [
            "['Pelé, the Brazilian king of soccer who won a record 3 World Cups and became one of the most commanding sports figures of the last century, died Thursday.', 'He was 82.']\n"
          ]
        }
      ]
    },
    {
      "cell_type": "code",
      "source": [
        "# Tokenize the text into words\n",
        "words = nltk.word_tokenize(text)\n",
        "\n",
        "# Print the words\n",
        "print(words)"
      ],
      "metadata": {
        "colab": {
          "base_uri": "https://localhost:8080/"
        },
        "id": "kdYFxdXRRQtb",
        "outputId": "d3abc758-74ac-4e9a-8891-d75dae19c91a"
      },
      "execution_count": 21,
      "outputs": [
        {
          "output_type": "stream",
          "name": "stdout",
          "text": [
            "['Pelé', ',', 'the', 'Brazilian', 'king', 'of', 'soccer', 'who', 'won', 'a', 'record', '3', 'World', 'Cups', 'and', 'became', 'one', 'of', 'the', 'most', 'commanding', 'sports', 'figures', 'of', 'the', 'last', 'century', ',', 'died', 'Thursday', '.', 'He', 'was', '82', '.']\n"
          ]
        }
      ]
    },
    {
      "cell_type": "code",
      "source": [
        "import matplotlib.pyplot as plt\n",
        "\n",
        "# Create a dictionary to store the word frequencies\n",
        "word_frequencies = {}\n",
        "\n",
        "# Iterate through the list of words and update the word frequencies\n",
        "for word in words:\n",
        "    if word in word_frequencies:\n",
        "        word_frequencies[word] += 1\n",
        "    else:\n",
        "        word_frequencies[word] = 1\n",
        "\n",
        "# Sort the word frequencies in descending order\n",
        "sorted_word_frequencies = sorted(word_frequencies.items(), key=lambda x: x[1], reverse=True)\n",
        "\n",
        "# Select the top 20 words\n",
        "top_20_words = sorted_word_frequencies[:20]\n",
        "\n",
        "# Extract the words and frequencies\n",
        "words, frequencies = zip(*top_20_words)\n",
        "\n",
        "# Plot the bar chart\n",
        "plt.bar(words, frequencies)\n",
        "plt.xticks(rotation=90)\n",
        "plt.show()"
      ],
      "metadata": {
        "colab": {
          "base_uri": "https://localhost:8080/",
          "height": 321
        },
        "id": "q-Ij-eV1RcM1",
        "outputId": "331ec75d-cbd7-4506-e68d-c7c1e24ed9bd"
      },
      "execution_count": 22,
      "outputs": [
        {
          "output_type": "display_data",
          "data": {
            "text/plain": [
              "<Figure size 432x288 with 1 Axes>"
            ],
            "image/png": "[encoded data removed]"
          },
          "metadata": {
            "needs_background": "light"
          }
        }
      ]
    },
    {
      "cell_type": "code",
      "source": [
        "import string\n",
        "\n",
        "# Remove the stopwords and punctuation\n",
        "filtered_words = [word for word in words if word.lower() not in nltk.corpus.stopwords.words('english') and word not in string.punctuation]\n",
        "\n",
        "# Create a dictionary to store the word frequencies\n",
        "word_frequencies = {}\n",
        "\n",
        "# Iterate through the list of words and update the word frequencies\n",
        "for word in filtered_words:\n",
        "    if word in word_frequencies:\n",
        "        word_frequencies[word] += 1\n",
        "    else:\n",
        "        word_frequencies[word] = 1\n",
        "\n",
        "# Sort the word frequencies in descending order\n",
        "sorted_word_frequencies = sorted(word_frequencies.items(), key=lambda x: x[1], reverse=True)\n",
        "\n",
        "# Select the top 20 words\n",
        "top_20_words = sorted_word_frequencies[:20]\n",
        "\n",
        "# Extract the words and frequencies\n",
        "words, frequencies = zip(*top_20_words)\n",
        "\n",
        "# Plot the bar chart\n",
        "plt.bar(words, frequencies)\n",
        "plt.xticks(rotation=90)\n",
        "plt.show()"
      ],
      "metadata": {
        "colab": {
          "base_uri": "https://localhost:8080/",
          "height": 321
        },
        "id": "Y1gMflhhRhv6",
        "outputId": "b34318e8-d4f5-433d-af85-063567d974f3"
      },
      "execution_count": 23,
      "outputs": [
        {
          "output_type": "display_data",
          "data": {
            "text/plain": [
              "<Figure size 432x288 with 1 Axes>"
            ],
            "image/png": "[encoded data removed]"
          },
          "metadata": {
            "needs_background": "light"
          }
        }
      ]
    }
  ]
}